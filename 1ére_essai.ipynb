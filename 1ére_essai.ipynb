{
  "nbformat": 4,
  "nbformat_minor": 0,
  "metadata": {
    "colab": {
      "name": "1ére_essai.ipynb",
      "provenance": [],
      "collapsed_sections": [],
      "machine_shape": "hm"
    },
    "kernelspec": {
      "name": "python3",
      "display_name": "Python 3"
    }
  },
  "cells": [
    {
      "cell_type": "code",
      "metadata": {
        "id": "ARTHU4TW6gwd",
        "colab_type": "code",
        "outputId": "e5a18147-3d35-468f-d34d-e42a06b31d6e",
        "colab": {
          "base_uri": "https://localhost:8080/",
          "height": 204
        }
      },
      "source": [
        "!pip install kaggle"
      ],
      "execution_count": 0,
      "outputs": [
        {
          "output_type": "stream",
          "text": [
            "Requirement already satisfied: kaggle in /usr/local/lib/python3.6/dist-packages (1.5.6)\n",
            "Requirement already satisfied: requests in /usr/local/lib/python3.6/dist-packages (from kaggle) (2.21.0)\n",
            "Requirement already satisfied: urllib3<1.25,>=1.21.1 in /usr/local/lib/python3.6/dist-packages (from kaggle) (1.24.3)\n",
            "Requirement already satisfied: tqdm in /usr/local/lib/python3.6/dist-packages (from kaggle) (4.28.1)\n",
            "Requirement already satisfied: six>=1.10 in /usr/local/lib/python3.6/dist-packages (from kaggle) (1.12.0)\n",
            "Requirement already satisfied: certifi in /usr/local/lib/python3.6/dist-packages (from kaggle) (2019.11.28)\n",
            "Requirement already satisfied: python-dateutil in /usr/local/lib/python3.6/dist-packages (from kaggle) (2.6.1)\n",
            "Requirement already satisfied: python-slugify in /usr/local/lib/python3.6/dist-packages (from kaggle) (4.0.0)\n",
            "Requirement already satisfied: chardet<3.1.0,>=3.0.2 in /usr/local/lib/python3.6/dist-packages (from requests->kaggle) (3.0.4)\n",
            "Requirement already satisfied: idna<2.9,>=2.5 in /usr/local/lib/python3.6/dist-packages (from requests->kaggle) (2.8)\n",
            "Requirement already satisfied: text-unidecode>=1.3 in /usr/local/lib/python3.6/dist-packages (from python-slugify->kaggle) (1.3)\n"
          ],
          "name": "stdout"
        }
      ]
    },
    {
      "cell_type": "code",
      "metadata": {
        "id": "2xQMvdF76qSv",
        "colab_type": "code",
        "outputId": "60009234-c607-4ee1-d8a3-a3c89f2ae51e",
        "colab": {
          "resources": {
            "http://localhost:8080/nbextensions/google.colab/files.js": {
              "data": "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",
              "ok": true,
              "headers": [
                [
                  "content-type",
                  "application/javascript"
                ]
              ],
              "status": 200,
              "status_text": ""
            }
          },
          "base_uri": "https://localhost:8080/",
          "height": 91
        }
      },
      "source": [
        "from google.colab import files\n",
        "files.upload()"
      ],
      "execution_count": 0,
      "outputs": [
        {
          "output_type": "display_data",
          "data": {
            "text/html": [
              "\n",
              "     <input type=\"file\" id=\"files-bc349e6e-6f12-4d1d-8e40-53f0469374a9\" name=\"files[]\" multiple disabled />\n",
              "     <output id=\"result-bc349e6e-6f12-4d1d-8e40-53f0469374a9\">\n",
              "      Upload widget is only available when the cell has been executed in the\n",
              "      current browser session. Please rerun this cell to enable.\n",
              "      </output>\n",
              "      <script src=\"/nbextensions/google.colab/files.js\"></script> "
            ],
            "text/plain": [
              "<IPython.core.display.HTML object>"
            ]
          },
          "metadata": {
            "tags": []
          }
        },
        {
          "output_type": "stream",
          "text": [
            "Saving kaggle.json to kaggle.json\n"
          ],
          "name": "stdout"
        },
        {
          "output_type": "execute_result",
          "data": {
            "text/plain": [
              "{'kaggle.json': b'{\"username\":\"benhassinemouna\",\"key\":\"a3184ba607cd1ff1dfddb14cb1aeb2f3\"}'}"
            ]
          },
          "metadata": {
            "tags": []
          },
          "execution_count": 2
        }
      ]
    },
    {
      "cell_type": "code",
      "metadata": {
        "id": "GWKBtxfm6rfX",
        "colab_type": "code",
        "colab": {}
      },
      "source": [
        "!mkdir -p ~/.kaggle\n",
        "!cp kaggle.json ~/.kaggle/\n",
        "!chmod 600 ~/.kaggle/kaggle.json"
      ],
      "execution_count": 0,
      "outputs": []
    },
    {
      "cell_type": "code",
      "metadata": {
        "id": "EnPjF4RJ6zMr",
        "colab_type": "code",
        "outputId": "6204ae30-1767-4430-809a-d52d04251dc3",
        "colab": {
          "base_uri": "https://localhost:8080/",
          "height": 136
        }
      },
      "source": [
        "!kaggle competitions download -c ashrae-energy-prediction"
      ],
      "execution_count": 0,
      "outputs": [
        {
          "output_type": "stream",
          "text": [
            "Warning: Looks like you're using an outdated API Version, please consider updating (server 1.5.6 / client 1.5.4)\n",
            "weather_test.csv.zip: Skipping, found more recently modified local copy (use --force to force download)\n",
            "test.csv.zip: Skipping, found more recently modified local copy (use --force to force download)\n",
            "building_metadata.csv: Skipping, found more recently modified local copy (use --force to force download)\n",
            "weather_train.csv.zip: Skipping, found more recently modified local copy (use --force to force download)\n",
            "train.csv.zip: Skipping, found more recently modified local copy (use --force to force download)\n",
            "sample_submission.csv.zip: Skipping, found more recently modified local copy (use --force to force download)\n"
          ],
          "name": "stdout"
        }
      ]
    },
    {
      "cell_type": "code",
      "metadata": {
        "id": "wxIlb38v7Ip6",
        "colab_type": "code",
        "outputId": "363e1b8d-81db-4b44-ba72-35d179a85885",
        "colab": {
          "base_uri": "https://localhost:8080/",
          "height": 153
        }
      },
      "source": [
        "!unzip /content/test.csv.zip\n",
        "!unzip /content/train.csv.zip\n",
        "!unzip /content/weather_test.csv.zip\n",
        "!unzip /content/weather_train.csv.zip"
      ],
      "execution_count": 0,
      "outputs": [
        {
          "output_type": "stream",
          "text": [
            "Archive:  /content/test.csv.zip\n",
            "  inflating: test.csv                \n",
            "Archive:  /content/train.csv.zip\n",
            "  inflating: train.csv               \n",
            "Archive:  /content/weather_test.csv.zip\n",
            "  inflating: weather_test.csv        \n",
            "Archive:  /content/weather_train.csv.zip\n",
            "  inflating: weather_train.csv       \n"
          ],
          "name": "stdout"
        }
      ]
    },
    {
      "cell_type": "markdown",
      "metadata": {
        "id": "ZCW5Thmd65bk",
        "colab_type": "text"
      },
      "source": [
        "READING DATA"
      ]
    },
    {
      "cell_type": "code",
      "metadata": {
        "id": "O6fUd4ES7mKH",
        "colab_type": "code",
        "colab": {}
      },
      "source": [
        "%matplotlib inline\n",
        "import json\n",
        "import os\n",
        "import pandas as pd\n",
        "import seaborn as sns\n",
        "import statsmodels.formula.api as smf\n",
        "from sklearn.linear_model import LinearRegression\n",
        "from sklearn import metrics\n",
        "from sklearn.model_selection  import train_test_split\n",
        "import numpy as np\n",
        "import gc\n",
        "from scipy.stats import norm # for scientific Computing\n",
        "from scipy import stats, integrate\n",
        "import matplotlib.pyplot as plt"
      ],
      "execution_count": 0,
      "outputs": []
    },
    {
      "cell_type": "code",
      "metadata": {
        "id": "TAKfF--e7OWS",
        "colab_type": "code",
        "colab": {}
      },
      "source": [
        "train_df=pd.read_csv('/content/train.csv', sep=',')\n",
        "building_df=pd.read_csv('/content/building_metadata.csv', sep=',')\n",
        "weather_train_df=pd.read_csv('/content/weather_train.csv',sep=',')\n",
        "weather_test_df=pd.read_csv('/content/weather_test.csv',sep=',')\n",
        "test_df=pd.read_csv('/content/test.csv',sep=',')"
      ],
      "execution_count": 0,
      "outputs": []
    },
    {
      "cell_type": "code",
      "metadata": {
        "id": "j1OXM4kB7X-i",
        "colab_type": "code",
        "outputId": "006861a4-b17f-4d7d-a497-32369ee526d9",
        "colab": {
          "base_uri": "https://localhost:8080/",
          "height": 102
        }
      },
      "source": [
        "print('Size of train_df data', train_df.shape)\n",
        "print('Size of weather_train_df data', weather_train_df.shape)\n",
        "print('Size of weather_test_df data', weather_test_df.shape)\n",
        "print('Size of building_df data', building_df.shape)\n",
        "print('Size of test_df data', test_df.shape)\n"
      ],
      "execution_count": 0,
      "outputs": [
        {
          "output_type": "stream",
          "text": [
            "Size of train_df data (20216100, 4)\n",
            "Size of weather_train_df data (139773, 9)\n",
            "Size of weather_test_df data (277243, 9)\n",
            "Size of building_df data (1449, 6)\n",
            "Size of test_df data (41697600, 4)\n"
          ],
          "name": "stdout"
        }
      ]
    },
    {
      "cell_type": "code",
      "metadata": {
        "id": "1szFtcjV8nll",
        "colab_type": "code",
        "outputId": "d24356eb-9254-4ea8-de52-f07e3f1a29e6",
        "colab": {
          "base_uri": "https://localhost:8080/",
          "height": 204
        }
      },
      "source": [
        "train_df.head()"
      ],
      "execution_count": 0,
      "outputs": [
        {
          "output_type": "execute_result",
          "data": {
            "text/html": [
              "<div>\n",
              "<style scoped>\n",
              "    .dataframe tbody tr th:only-of-type {\n",
              "        vertical-align: middle;\n",
              "    }\n",
              "\n",
              "    .dataframe tbody tr th {\n",
              "        vertical-align: top;\n",
              "    }\n",
              "\n",
              "    .dataframe thead th {\n",
              "        text-align: right;\n",
              "    }\n",
              "</style>\n",
              "<table border=\"1\" class=\"dataframe\">\n",
              "  <thead>\n",
              "    <tr style=\"text-align: right;\">\n",
              "      <th></th>\n",
              "      <th>building_id</th>\n",
              "      <th>meter</th>\n",
              "      <th>timestamp</th>\n",
              "      <th>meter_reading</th>\n",
              "    </tr>\n",
              "  </thead>\n",
              "  <tbody>\n",
              "    <tr>\n",
              "      <th>0</th>\n",
              "      <td>0</td>\n",
              "      <td>0</td>\n",
              "      <td>2016-01-01 00:00:00</td>\n",
              "      <td>0.0</td>\n",
              "    </tr>\n",
              "    <tr>\n",
              "      <th>1</th>\n",
              "      <td>1</td>\n",
              "      <td>0</td>\n",
              "      <td>2016-01-01 00:00:00</td>\n",
              "      <td>0.0</td>\n",
              "    </tr>\n",
              "    <tr>\n",
              "      <th>2</th>\n",
              "      <td>2</td>\n",
              "      <td>0</td>\n",
              "      <td>2016-01-01 00:00:00</td>\n",
              "      <td>0.0</td>\n",
              "    </tr>\n",
              "    <tr>\n",
              "      <th>3</th>\n",
              "      <td>3</td>\n",
              "      <td>0</td>\n",
              "      <td>2016-01-01 00:00:00</td>\n",
              "      <td>0.0</td>\n",
              "    </tr>\n",
              "    <tr>\n",
              "      <th>4</th>\n",
              "      <td>4</td>\n",
              "      <td>0</td>\n",
              "      <td>2016-01-01 00:00:00</td>\n",
              "      <td>0.0</td>\n",
              "    </tr>\n",
              "  </tbody>\n",
              "</table>\n",
              "</div>"
            ],
            "text/plain": [
              "   building_id  meter            timestamp  meter_reading\n",
              "0            0      0  2016-01-01 00:00:00            0.0\n",
              "1            1      0  2016-01-01 00:00:00            0.0\n",
              "2            2      0  2016-01-01 00:00:00            0.0\n",
              "3            3      0  2016-01-01 00:00:00            0.0\n",
              "4            4      0  2016-01-01 00:00:00            0.0"
            ]
          },
          "metadata": {
            "tags": []
          },
          "execution_count": 86
        }
      ]
    },
    {
      "cell_type": "code",
      "metadata": {
        "id": "8OUo2dH88rd8",
        "colab_type": "code",
        "outputId": "dd4c08f2-b308-4e6b-a552-c56de0ca209e",
        "colab": {
          "base_uri": "https://localhost:8080/",
          "height": 34
        }
      },
      "source": [
        "train_df.columns.values"
      ],
      "execution_count": 0,
      "outputs": [
        {
          "output_type": "execute_result",
          "data": {
            "text/plain": [
              "array(['building_id', 'meter', 'timestamp', 'meter_reading'], dtype=object)"
            ]
          },
          "metadata": {
            "tags": []
          },
          "execution_count": 87
        }
      ]
    },
    {
      "cell_type": "code",
      "metadata": {
        "id": "dW3-VZKf83eq",
        "colab_type": "code",
        "outputId": "3b97e237-ce5c-4d6e-e3d7-b8c0cda61eb7",
        "colab": {
          "base_uri": "https://localhost:8080/",
          "height": 394
        }
      },
      "source": [
        "weather_train_df.head()"
      ],
      "execution_count": 0,
      "outputs": [
        {
          "output_type": "execute_result",
          "data": {
            "text/html": [
              "<div>\n",
              "<style scoped>\n",
              "    .dataframe tbody tr th:only-of-type {\n",
              "        vertical-align: middle;\n",
              "    }\n",
              "\n",
              "    .dataframe tbody tr th {\n",
              "        vertical-align: top;\n",
              "    }\n",
              "\n",
              "    .dataframe thead th {\n",
              "        text-align: right;\n",
              "    }\n",
              "</style>\n",
              "<table border=\"1\" class=\"dataframe\">\n",
              "  <thead>\n",
              "    <tr style=\"text-align: right;\">\n",
              "      <th></th>\n",
              "      <th>site_id</th>\n",
              "      <th>timestamp</th>\n",
              "      <th>air_temperature</th>\n",
              "      <th>cloud_coverage</th>\n",
              "      <th>dew_temperature</th>\n",
              "      <th>precip_depth_1_hr</th>\n",
              "      <th>sea_level_pressure</th>\n",
              "      <th>wind_direction</th>\n",
              "      <th>wind_speed</th>\n",
              "    </tr>\n",
              "  </thead>\n",
              "  <tbody>\n",
              "    <tr>\n",
              "      <th>0</th>\n",
              "      <td>0</td>\n",
              "      <td>2016-01-01 00:00:00</td>\n",
              "      <td>25.0</td>\n",
              "      <td>6.0</td>\n",
              "      <td>20.0</td>\n",
              "      <td>NaN</td>\n",
              "      <td>1019.7</td>\n",
              "      <td>0.0</td>\n",
              "      <td>0.0</td>\n",
              "    </tr>\n",
              "    <tr>\n",
              "      <th>1</th>\n",
              "      <td>0</td>\n",
              "      <td>2016-01-01 01:00:00</td>\n",
              "      <td>24.4</td>\n",
              "      <td>NaN</td>\n",
              "      <td>21.1</td>\n",
              "      <td>-1.0</td>\n",
              "      <td>1020.2</td>\n",
              "      <td>70.0</td>\n",
              "      <td>1.5</td>\n",
              "    </tr>\n",
              "    <tr>\n",
              "      <th>2</th>\n",
              "      <td>0</td>\n",
              "      <td>2016-01-01 02:00:00</td>\n",
              "      <td>22.8</td>\n",
              "      <td>2.0</td>\n",
              "      <td>21.1</td>\n",
              "      <td>0.0</td>\n",
              "      <td>1020.2</td>\n",
              "      <td>0.0</td>\n",
              "      <td>0.0</td>\n",
              "    </tr>\n",
              "    <tr>\n",
              "      <th>3</th>\n",
              "      <td>0</td>\n",
              "      <td>2016-01-01 03:00:00</td>\n",
              "      <td>21.1</td>\n",
              "      <td>2.0</td>\n",
              "      <td>20.6</td>\n",
              "      <td>0.0</td>\n",
              "      <td>1020.1</td>\n",
              "      <td>0.0</td>\n",
              "      <td>0.0</td>\n",
              "    </tr>\n",
              "    <tr>\n",
              "      <th>4</th>\n",
              "      <td>0</td>\n",
              "      <td>2016-01-01 04:00:00</td>\n",
              "      <td>20.0</td>\n",
              "      <td>2.0</td>\n",
              "      <td>20.0</td>\n",
              "      <td>-1.0</td>\n",
              "      <td>1020.0</td>\n",
              "      <td>250.0</td>\n",
              "      <td>2.6</td>\n",
              "    </tr>\n",
              "  </tbody>\n",
              "</table>\n",
              "</div>"
            ],
            "text/plain": [
              "   site_id            timestamp  ...  wind_direction  wind_speed\n",
              "0        0  2016-01-01 00:00:00  ...             0.0         0.0\n",
              "1        0  2016-01-01 01:00:00  ...            70.0         1.5\n",
              "2        0  2016-01-01 02:00:00  ...             0.0         0.0\n",
              "3        0  2016-01-01 03:00:00  ...             0.0         0.0\n",
              "4        0  2016-01-01 04:00:00  ...           250.0         2.6\n",
              "\n",
              "[5 rows x 9 columns]"
            ]
          },
          "metadata": {
            "tags": []
          },
          "execution_count": 88
        }
      ]
    },
    {
      "cell_type": "code",
      "metadata": {
        "id": "gPZGlrAk9BqF",
        "colab_type": "code",
        "outputId": "c9600ddd-30f9-4d43-fdf3-f464e319f070",
        "colab": {
          "base_uri": "https://localhost:8080/",
          "height": 68
        }
      },
      "source": [
        "weather_train_df.columns.values"
      ],
      "execution_count": 0,
      "outputs": [
        {
          "output_type": "execute_result",
          "data": {
            "text/plain": [
              "array(['site_id', 'timestamp', 'air_temperature', 'cloud_coverage',\n",
              "       'dew_temperature', 'precip_depth_1_hr', 'sea_level_pressure',\n",
              "       'wind_direction', 'wind_speed'], dtype=object)"
            ]
          },
          "metadata": {
            "tags": []
          },
          "execution_count": 89
        }
      ]
    },
    {
      "cell_type": "code",
      "metadata": {
        "id": "SmXm6Xyq9JRs",
        "colab_type": "code",
        "outputId": "43b30a97-4bc7-4d87-feb3-7ff4dbd5bd9c",
        "colab": {
          "base_uri": "https://localhost:8080/",
          "height": 394
        }
      },
      "source": [
        "weather_test_df.head()"
      ],
      "execution_count": 0,
      "outputs": [
        {
          "output_type": "execute_result",
          "data": {
            "text/html": [
              "<div>\n",
              "<style scoped>\n",
              "    .dataframe tbody tr th:only-of-type {\n",
              "        vertical-align: middle;\n",
              "    }\n",
              "\n",
              "    .dataframe tbody tr th {\n",
              "        vertical-align: top;\n",
              "    }\n",
              "\n",
              "    .dataframe thead th {\n",
              "        text-align: right;\n",
              "    }\n",
              "</style>\n",
              "<table border=\"1\" class=\"dataframe\">\n",
              "  <thead>\n",
              "    <tr style=\"text-align: right;\">\n",
              "      <th></th>\n",
              "      <th>site_id</th>\n",
              "      <th>timestamp</th>\n",
              "      <th>air_temperature</th>\n",
              "      <th>cloud_coverage</th>\n",
              "      <th>dew_temperature</th>\n",
              "      <th>precip_depth_1_hr</th>\n",
              "      <th>sea_level_pressure</th>\n",
              "      <th>wind_direction</th>\n",
              "      <th>wind_speed</th>\n",
              "    </tr>\n",
              "  </thead>\n",
              "  <tbody>\n",
              "    <tr>\n",
              "      <th>0</th>\n",
              "      <td>0</td>\n",
              "      <td>2017-01-01 00:00:00</td>\n",
              "      <td>17.8</td>\n",
              "      <td>4.0</td>\n",
              "      <td>11.7</td>\n",
              "      <td>NaN</td>\n",
              "      <td>1021.4</td>\n",
              "      <td>100.0</td>\n",
              "      <td>3.6</td>\n",
              "    </tr>\n",
              "    <tr>\n",
              "      <th>1</th>\n",
              "      <td>0</td>\n",
              "      <td>2017-01-01 01:00:00</td>\n",
              "      <td>17.8</td>\n",
              "      <td>2.0</td>\n",
              "      <td>12.8</td>\n",
              "      <td>0.0</td>\n",
              "      <td>1022.0</td>\n",
              "      <td>130.0</td>\n",
              "      <td>3.1</td>\n",
              "    </tr>\n",
              "    <tr>\n",
              "      <th>2</th>\n",
              "      <td>0</td>\n",
              "      <td>2017-01-01 02:00:00</td>\n",
              "      <td>16.1</td>\n",
              "      <td>0.0</td>\n",
              "      <td>12.8</td>\n",
              "      <td>0.0</td>\n",
              "      <td>1021.9</td>\n",
              "      <td>140.0</td>\n",
              "      <td>3.1</td>\n",
              "    </tr>\n",
              "    <tr>\n",
              "      <th>3</th>\n",
              "      <td>0</td>\n",
              "      <td>2017-01-01 03:00:00</td>\n",
              "      <td>17.2</td>\n",
              "      <td>0.0</td>\n",
              "      <td>13.3</td>\n",
              "      <td>0.0</td>\n",
              "      <td>1022.2</td>\n",
              "      <td>140.0</td>\n",
              "      <td>3.1</td>\n",
              "    </tr>\n",
              "    <tr>\n",
              "      <th>4</th>\n",
              "      <td>0</td>\n",
              "      <td>2017-01-01 04:00:00</td>\n",
              "      <td>16.7</td>\n",
              "      <td>2.0</td>\n",
              "      <td>13.3</td>\n",
              "      <td>0.0</td>\n",
              "      <td>1022.3</td>\n",
              "      <td>130.0</td>\n",
              "      <td>2.6</td>\n",
              "    </tr>\n",
              "  </tbody>\n",
              "</table>\n",
              "</div>"
            ],
            "text/plain": [
              "   site_id            timestamp  ...  wind_direction  wind_speed\n",
              "0        0  2017-01-01 00:00:00  ...           100.0         3.6\n",
              "1        0  2017-01-01 01:00:00  ...           130.0         3.1\n",
              "2        0  2017-01-01 02:00:00  ...           140.0         3.1\n",
              "3        0  2017-01-01 03:00:00  ...           140.0         3.1\n",
              "4        0  2017-01-01 04:00:00  ...           130.0         2.6\n",
              "\n",
              "[5 rows x 9 columns]"
            ]
          },
          "metadata": {
            "tags": []
          },
          "execution_count": 90
        }
      ]
    },
    {
      "cell_type": "code",
      "metadata": {
        "id": "zrcGF5X49KPe",
        "colab_type": "code",
        "outputId": "758e0fd3-fabb-4bd3-ad03-c1a7fc6c2dc1",
        "colab": {
          "base_uri": "https://localhost:8080/",
          "height": 68
        }
      },
      "source": [
        "weather_test_df.columns.values"
      ],
      "execution_count": 0,
      "outputs": [
        {
          "output_type": "execute_result",
          "data": {
            "text/plain": [
              "array(['site_id', 'timestamp', 'air_temperature', 'cloud_coverage',\n",
              "       'dew_temperature', 'precip_depth_1_hr', 'sea_level_pressure',\n",
              "       'wind_direction', 'wind_speed'], dtype=object)"
            ]
          },
          "metadata": {
            "tags": []
          },
          "execution_count": 91
        }
      ]
    },
    {
      "cell_type": "code",
      "metadata": {
        "id": "6gM9j8P79QN0",
        "colab_type": "code",
        "outputId": "1b985af0-b3ac-4481-b079-1581ab6b7348",
        "colab": {
          "base_uri": "https://localhost:8080/",
          "height": 204
        }
      },
      "source": [
        "building_df.head()"
      ],
      "execution_count": 0,
      "outputs": [
        {
          "output_type": "execute_result",
          "data": {
            "text/html": [
              "<div>\n",
              "<style scoped>\n",
              "    .dataframe tbody tr th:only-of-type {\n",
              "        vertical-align: middle;\n",
              "    }\n",
              "\n",
              "    .dataframe tbody tr th {\n",
              "        vertical-align: top;\n",
              "    }\n",
              "\n",
              "    .dataframe thead th {\n",
              "        text-align: right;\n",
              "    }\n",
              "</style>\n",
              "<table border=\"1\" class=\"dataframe\">\n",
              "  <thead>\n",
              "    <tr style=\"text-align: right;\">\n",
              "      <th></th>\n",
              "      <th>site_id</th>\n",
              "      <th>building_id</th>\n",
              "      <th>primary_use</th>\n",
              "      <th>square_feet</th>\n",
              "      <th>year_built</th>\n",
              "      <th>floor_count</th>\n",
              "    </tr>\n",
              "  </thead>\n",
              "  <tbody>\n",
              "    <tr>\n",
              "      <th>0</th>\n",
              "      <td>0</td>\n",
              "      <td>0</td>\n",
              "      <td>Education</td>\n",
              "      <td>7432</td>\n",
              "      <td>2008.0</td>\n",
              "      <td>NaN</td>\n",
              "    </tr>\n",
              "    <tr>\n",
              "      <th>1</th>\n",
              "      <td>0</td>\n",
              "      <td>1</td>\n",
              "      <td>Education</td>\n",
              "      <td>2720</td>\n",
              "      <td>2004.0</td>\n",
              "      <td>NaN</td>\n",
              "    </tr>\n",
              "    <tr>\n",
              "      <th>2</th>\n",
              "      <td>0</td>\n",
              "      <td>2</td>\n",
              "      <td>Education</td>\n",
              "      <td>5376</td>\n",
              "      <td>1991.0</td>\n",
              "      <td>NaN</td>\n",
              "    </tr>\n",
              "    <tr>\n",
              "      <th>3</th>\n",
              "      <td>0</td>\n",
              "      <td>3</td>\n",
              "      <td>Education</td>\n",
              "      <td>23685</td>\n",
              "      <td>2002.0</td>\n",
              "      <td>NaN</td>\n",
              "    </tr>\n",
              "    <tr>\n",
              "      <th>4</th>\n",
              "      <td>0</td>\n",
              "      <td>4</td>\n",
              "      <td>Education</td>\n",
              "      <td>116607</td>\n",
              "      <td>1975.0</td>\n",
              "      <td>NaN</td>\n",
              "    </tr>\n",
              "  </tbody>\n",
              "</table>\n",
              "</div>"
            ],
            "text/plain": [
              "   site_id  building_id primary_use  square_feet  year_built  floor_count\n",
              "0        0            0   Education         7432      2008.0          NaN\n",
              "1        0            1   Education         2720      2004.0          NaN\n",
              "2        0            2   Education         5376      1991.0          NaN\n",
              "3        0            3   Education        23685      2002.0          NaN\n",
              "4        0            4   Education       116607      1975.0          NaN"
            ]
          },
          "metadata": {
            "tags": []
          },
          "execution_count": 92
        }
      ]
    },
    {
      "cell_type": "code",
      "metadata": {
        "id": "OrpeVUPO9kV5",
        "colab_type": "code",
        "outputId": "5b86597a-b1a2-4baf-c340-d541c9f05b58",
        "colab": {
          "base_uri": "https://localhost:8080/",
          "height": 51
        }
      },
      "source": [
        "building_df.columns.values"
      ],
      "execution_count": 0,
      "outputs": [
        {
          "output_type": "execute_result",
          "data": {
            "text/plain": [
              "array(['site_id', 'building_id', 'primary_use', 'square_feet',\n",
              "       'year_built', 'floor_count'], dtype=object)"
            ]
          },
          "metadata": {
            "tags": []
          },
          "execution_count": 93
        }
      ]
    },
    {
      "cell_type": "code",
      "metadata": {
        "id": "BqNwBeIAHOUG",
        "colab_type": "code",
        "outputId": "d662b5d3-fae2-4fcd-8a15-001331db6cfb",
        "colab": {
          "base_uri": "https://localhost:8080/",
          "height": 408
        }
      },
      "source": [
        "plt.figure(figsize=(8,6))\n",
        "plt.scatter(range(train_df.shape[0]), np.sort(train_df['meter_reading'].values))\n",
        "plt.xlabel('index', fontsize=12)\n",
        "plt.ylabel('meter_reading', fontsize=12)\n",
        "plt.title(\"Target Distribution\", fontsize=14)\n",
        "plt.show()"
      ],
      "execution_count": 0,
      "outputs": [
        {
          "output_type": "display_data",
          "data": {
            "image/png": "[encoded data removed]",
            "text/plain": [
              "<Figure size 576x432 with 1 Axes>"
            ]
          },
          "metadata": {
            "tags": []
          }
        }
      ]
    },
    {
      "cell_type": "code",
      "metadata": {
        "id": "JL4Ubgi2Hc0w",
        "colab_type": "code",
        "outputId": "3908a3b9-b50d-4677-ef68-98200ad49fa3",
        "colab": {
          "base_uri": "https://localhost:8080/",
          "height": 349
        }
      },
      "source": [
        "train_df['meter_reading'].plot(kind='hist',\n",
        "                            bins=25,\n",
        "                            figsize=(15, 5),\n",
        "                           title='Distribution of Target Variable (meter_reading)')\n",
        "plt.show()"
      ],
      "execution_count": 0,
      "outputs": [
        {
          "output_type": "display_data",
          "data": {
            "image/png": "[encoded data removed]",
            "text/plain": [
              "<Figure size 1080x360 with 1 Axes>"
            ]
          },
          "metadata": {
            "tags": []
          }
        }
      ]
    },
    {
      "cell_type": "code",
      "metadata": {
        "id": "KdnExuMRH4mx",
        "colab_type": "code",
        "outputId": "8b53b73c-699b-42f9-eaa2-46a02e1b297c",
        "colab": {
          "base_uri": "https://localhost:8080/",
          "height": 119
        }
      },
      "source": [
        "print(\"moyenne of missing values in the train_df dataset\")\n",
        "train_df.isnull().mean()"
      ],
      "execution_count": 0,
      "outputs": [
        {
          "output_type": "stream",
          "text": [
            "moyenne of missing values in the train_df dataset\n"
          ],
          "name": "stdout"
        },
        {
          "output_type": "execute_result",
          "data": {
            "text/plain": [
              "building_id      0.0\n",
              "meter            0.0\n",
              "timestamp        0.0\n",
              "meter_reading    0.0\n",
              "dtype: float64"
            ]
          },
          "metadata": {
            "tags": []
          },
          "execution_count": 95
        }
      ]
    },
    {
      "cell_type": "code",
      "metadata": {
        "id": "JpAR-C7o9kpA",
        "colab_type": "code",
        "outputId": "eeaf18a2-fe97-492b-cc04-f4334785ec0c",
        "colab": {
          "base_uri": "https://localhost:8080/",
          "height": 119
        }
      },
      "source": [
        "print(\"Percentage of missing values in the test_df dataset\")\n",
        "test_df.isnull().mean()"
      ],
      "execution_count": 0,
      "outputs": [
        {
          "output_type": "stream",
          "text": [
            "Percentage of missing values in the test_df dataset\n"
          ],
          "name": "stdout"
        },
        {
          "output_type": "execute_result",
          "data": {
            "text/plain": [
              "row_id         0.0\n",
              "building_id    0.0\n",
              "meter          0.0\n",
              "timestamp      0.0\n",
              "dtype: float64"
            ]
          },
          "metadata": {
            "tags": []
          },
          "execution_count": 96
        }
      ]
    },
    {
      "cell_type": "code",
      "metadata": {
        "id": "c-VUQSuSIJ2o",
        "colab_type": "code",
        "outputId": "a92aa514-ab6e-486c-d4dd-a6a6a5247bb1",
        "colab": {
          "base_uri": "https://localhost:8080/",
          "height": 204
        }
      },
      "source": [
        "print(\"moyenne of missing values in the weather_test_df dataset\")\n",
        "weather_test_df.isnull().mean()"
      ],
      "execution_count": 0,
      "outputs": [
        {
          "output_type": "stream",
          "text": [
            "moyenne of missing values in the weather_test_df dataset\n"
          ],
          "name": "stdout"
        },
        {
          "output_type": "execute_result",
          "data": {
            "text/plain": [
              "site_id               0.000000\n",
              "timestamp             0.000000\n",
              "air_temperature       0.000375\n",
              "cloud_coverage        0.506588\n",
              "dew_temperature       0.001179\n",
              "precip_depth_1_hr     0.344781\n",
              "sea_level_pressure    0.076702\n",
              "wind_direction        0.044618\n",
              "wind_speed            0.001659\n",
              "dtype: float64"
            ]
          },
          "metadata": {
            "tags": []
          },
          "execution_count": 97
        }
      ]
    },
    {
      "cell_type": "code",
      "metadata": {
        "id": "GM-wvoJrIJb8",
        "colab_type": "code",
        "outputId": "7ba33472-3ee7-4480-8cbe-7e22e34ea107",
        "colab": {
          "base_uri": "https://localhost:8080/",
          "height": 204
        }
      },
      "source": [
        "print(\"moyenne of missing values in the weather_train_df dataset\")\n",
        "weather_train_df.isnull().mean()"
      ],
      "execution_count": 0,
      "outputs": [
        {
          "output_type": "stream",
          "text": [
            "moyenne of missing values in the weather_train_df dataset\n"
          ],
          "name": "stdout"
        },
        {
          "output_type": "execute_result",
          "data": {
            "text/plain": [
              "site_id               0.000000\n",
              "timestamp             0.000000\n",
              "air_temperature       0.000393\n",
              "cloud_coverage        0.494895\n",
              "dew_temperature       0.000808\n",
              "precip_depth_1_hr     0.359791\n",
              "sea_level_pressure    0.075966\n",
              "wind_direction        0.044844\n",
              "wind_speed            0.002175\n",
              "dtype: float64"
            ]
          },
          "metadata": {
            "tags": []
          },
          "execution_count": 98
        }
      ]
    },
    {
      "cell_type": "code",
      "metadata": {
        "id": "nwwnvKuiJaCg",
        "colab_type": "code",
        "outputId": "5d55991b-8b3b-4635-bc21-8bbf113bd03b",
        "colab": {
          "base_uri": "https://localhost:8080/",
          "height": 153
        }
      },
      "source": [
        "print(\"Percentage of missing values in the building_df dataset\")\n",
        "building_df.isnull().mean()"
      ],
      "execution_count": 0,
      "outputs": [
        {
          "output_type": "stream",
          "text": [
            "Percentage of missing values in the building_df dataset\n"
          ],
          "name": "stdout"
        },
        {
          "output_type": "execute_result",
          "data": {
            "text/plain": [
              "site_id        0.000000\n",
              "building_id    0.000000\n",
              "primary_use    0.000000\n",
              "square_feet    0.000000\n",
              "year_built     0.534161\n",
              "floor_count    0.755003\n",
              "dtype: float64"
            ]
          },
          "metadata": {
            "tags": []
          },
          "execution_count": 99
        }
      ]
    },
    {
      "cell_type": "code",
      "metadata": {
        "id": "6qBq-EKhKx13",
        "colab_type": "code",
        "outputId": "a23844eb-2593-445b-8194-123a6e1dab48",
        "colab": {
          "base_uri": "https://localhost:8080/",
          "height": 613
        }
      },
      "source": [
        "corrmat=train_df.corr()\n",
        "fig,ax=plt.subplots(figsize=(12,10))\n",
        "sns.heatmap(corrmat,annot=True,annot_kws={'size': 12})\n"
      ],
      "execution_count": 0,
      "outputs": [
        {
          "output_type": "execute_result",
          "data": {
            "text/plain": [
              "<matplotlib.axes._subplots.AxesSubplot at 0x7f43b98b4d30>"
            ]
          },
          "metadata": {
            "tags": []
          },
          "execution_count": 24
        },
        {
          "output_type": "display_data",
          "data": {
            "image/png": "[encoded data removed]",
            "text/plain": [
              "<Figure size 864x720 with 2 Axes>"
            ]
          },
          "metadata": {
            "tags": []
          }
        }
      ]
    },
    {
      "cell_type": "code",
      "metadata": {
        "id": "2ZcEDKAiKKwg",
        "colab_type": "code",
        "outputId": "e2194eea-a8f3-4315-a54c-9253c951dec8",
        "colab": {
          "base_uri": "https://localhost:8080/",
          "height": 85
        }
      },
      "source": [
        "train_df.dtypes.value_counts()"
      ],
      "execution_count": 0,
      "outputs": [
        {
          "output_type": "execute_result",
          "data": {
            "text/plain": [
              "int64      2\n",
              "float64    1\n",
              "object     1\n",
              "dtype: int64"
            ]
          },
          "metadata": {
            "tags": []
          },
          "execution_count": 100
        }
      ]
    },
    {
      "cell_type": "code",
      "metadata": {
        "id": "roCNgQ-ePLMK",
        "colab_type": "code",
        "colab": {}
      },
      "source": [
        " Function to reduce the DF size"
      ],
      "execution_count": 0,
      "outputs": []
    },
    {
      "cell_type": "code",
      "metadata": {
        "id": "ZBmUJa-o8Vxe",
        "colab_type": "code",
        "colab": {}
      },
      "source": [
        "\n",
        "def reduce_memory_usage(df, verbose=True):\n",
        "    numerics = ['int16', 'int32', 'int64', 'float16', 'float32', 'float64']\n",
        "    start_mem = df.memory_usage().sum() / 1024**2    \n",
        "    for col in df.columns:\n",
        "        col_type = df[col].dtypes\n",
        "        if col_type in numerics:\n",
        "            c_min = df[col].min()\n",
        "            c_max = df[col].max()\n",
        "            if str(col_type)[:3] == 'int':\n",
        "                if c_min > np.iinfo(np.int8).min and c_max < np.iinfo(np.int8).max:\n",
        "                    df[col] = df[col].astype(np.int8)\n",
        "                elif c_min > np.iinfo(np.int16).min and c_max < np.iinfo(np.int16).max:\n",
        "                    df[col] = df[col].astype(np.int16)\n",
        "                elif c_min > np.iinfo(np.int32).min and c_max < np.iinfo(np.int32).max:\n",
        "                    df[col] = df[col].astype(np.int32)\n",
        "                elif c_min > np.iinfo(np.int64).min and c_max < np.iinfo(np.int64).max:\n",
        "                    df[col] = df[col].astype(np.int64)  \n",
        "            else:\n",
        "                if c_min > np.finfo(np.float16).min and c_max < np.finfo(np.float16).max:\n",
        "                    df[col] = df[col].astype(np.float16)\n",
        "                elif c_min > np.finfo(np.float32).min and c_max < np.finfo(np.float32).max:\n",
        "                     df[col] = df[col].astype(np.float32)\n",
        "                else:\n",
        "                    df[col] = df[col].astype(np.float64)    \n",
        "    end_mem = df.memory_usage().sum() / 1024**2\n",
        "    if verbose: print('Mem. usage decreased to {:5.2f} Mb ({:.1f}% reduction)'.format(end_mem, 100 * (start_mem - end_mem) / start_mem))\n",
        "    return df"
      ],
      "execution_count": 0,
      "outputs": []
    },
    {
      "cell_type": "code",
      "metadata": {
        "id": "eAQTnZa58dR-",
        "colab_type": "code",
        "outputId": "ce7de720-7cf0-4cbe-ab0f-01a0d88e0726",
        "colab": {
          "base_uri": "https://localhost:8080/",
          "height": 504
        }
      },
      "source": [
        "reduce_memory_usage(train_df)\n",
        "reduce_memory_usage(building_df)\n",
        "reduce_memory_usage(weather_train_df)\n",
        "\n",
        "reduce_memory_usage(weather_test_df)\n",
        "reduce_memory_usage(test_df)"
      ],
      "execution_count": 0,
      "outputs": [
        {
          "output_type": "stream",
          "text": [
            "Mem. usage decreased to 289.19 Mb (53.1% reduction)\n",
            "Mem. usage decreased to  0.03 Mb (60.3% reduction)\n",
            "Mem. usage decreased to  3.07 Mb (68.1% reduction)\n",
            "Mem. usage decreased to  6.08 Mb (68.1% reduction)\n",
            "Mem. usage decreased to 596.49 Mb (53.1% reduction)\n"
          ],
          "name": "stdout"
        },
        {
          "output_type": "execute_result",
          "data": {
            "text/html": [
              "<div>\n",
              "<style scoped>\n",
              "    .dataframe tbody tr th:only-of-type {\n",
              "        vertical-align: middle;\n",
              "    }\n",
              "\n",
              "    .dataframe tbody tr th {\n",
              "        vertical-align: top;\n",
              "    }\n",
              "\n",
              "    .dataframe thead th {\n",
              "        text-align: right;\n",
              "    }\n",
              "</style>\n",
              "<table border=\"1\" class=\"dataframe\">\n",
              "  <thead>\n",
              "    <tr style=\"text-align: right;\">\n",
              "      <th></th>\n",
              "      <th>row_id</th>\n",
              "      <th>building_id</th>\n",
              "      <th>meter</th>\n",
              "      <th>timestamp</th>\n",
              "    </tr>\n",
              "  </thead>\n",
              "  <tbody>\n",
              "    <tr>\n",
              "      <th>0</th>\n",
              "      <td>0</td>\n",
              "      <td>0</td>\n",
              "      <td>0</td>\n",
              "      <td>2017-01-01 00:00:00</td>\n",
              "    </tr>\n",
              "    <tr>\n",
              "      <th>1</th>\n",
              "      <td>1</td>\n",
              "      <td>1</td>\n",
              "      <td>0</td>\n",
              "      <td>2017-01-01 00:00:00</td>\n",
              "    </tr>\n",
              "    <tr>\n",
              "      <th>2</th>\n",
              "      <td>2</td>\n",
              "      <td>2</td>\n",
              "      <td>0</td>\n",
              "      <td>2017-01-01 00:00:00</td>\n",
              "    </tr>\n",
              "    <tr>\n",
              "      <th>3</th>\n",
              "      <td>3</td>\n",
              "      <td>3</td>\n",
              "      <td>0</td>\n",
              "      <td>2017-01-01 00:00:00</td>\n",
              "    </tr>\n",
              "    <tr>\n",
              "      <th>4</th>\n",
              "      <td>4</td>\n",
              "      <td>4</td>\n",
              "      <td>0</td>\n",
              "      <td>2017-01-01 00:00:00</td>\n",
              "    </tr>\n",
              "    <tr>\n",
              "      <th>...</th>\n",
              "      <td>...</td>\n",
              "      <td>...</td>\n",
              "      <td>...</td>\n",
              "      <td>...</td>\n",
              "    </tr>\n",
              "    <tr>\n",
              "      <th>41697595</th>\n",
              "      <td>41697595</td>\n",
              "      <td>1444</td>\n",
              "      <td>0</td>\n",
              "      <td>2018-05-09 07:00:00</td>\n",
              "    </tr>\n",
              "    <tr>\n",
              "      <th>41697596</th>\n",
              "      <td>41697596</td>\n",
              "      <td>1445</td>\n",
              "      <td>0</td>\n",
              "      <td>2018-05-09 07:00:00</td>\n",
              "    </tr>\n",
              "    <tr>\n",
              "      <th>41697597</th>\n",
              "      <td>41697597</td>\n",
              "      <td>1446</td>\n",
              "      <td>0</td>\n",
              "      <td>2018-05-09 07:00:00</td>\n",
              "    </tr>\n",
              "    <tr>\n",
              "      <th>41697598</th>\n",
              "      <td>41697598</td>\n",
              "      <td>1447</td>\n",
              "      <td>0</td>\n",
              "      <td>2018-05-09 07:00:00</td>\n",
              "    </tr>\n",
              "    <tr>\n",
              "      <th>41697599</th>\n",
              "      <td>41697599</td>\n",
              "      <td>1448</td>\n",
              "      <td>0</td>\n",
              "      <td>2018-05-09 07:00:00</td>\n",
              "    </tr>\n",
              "  </tbody>\n",
              "</table>\n",
              "<p>41697600 rows × 4 columns</p>\n",
              "</div>"
            ],
            "text/plain": [
              "            row_id  building_id  meter            timestamp\n",
              "0                0            0      0  2017-01-01 00:00:00\n",
              "1                1            1      0  2017-01-01 00:00:00\n",
              "2                2            2      0  2017-01-01 00:00:00\n",
              "3                3            3      0  2017-01-01 00:00:00\n",
              "4                4            4      0  2017-01-01 00:00:00\n",
              "...            ...          ...    ...                  ...\n",
              "41697595  41697595         1444      0  2018-05-09 07:00:00\n",
              "41697596  41697596         1445      0  2018-05-09 07:00:00\n",
              "41697597  41697597         1446      0  2018-05-09 07:00:00\n",
              "41697598  41697598         1447      0  2018-05-09 07:00:00\n",
              "41697599  41697599         1448      0  2018-05-09 07:00:00\n",
              "\n",
              "[41697600 rows x 4 columns]"
            ]
          },
          "metadata": {
            "tags": []
          },
          "execution_count": 10
        }
      ]
    },
    {
      "cell_type": "markdown",
      "metadata": {
        "id": "tbucSIX_PC_V",
        "colab_type": "text"
      },
      "source": [
        "feature engineering des dataframes"
      ]
    },
    {
      "cell_type": "code",
      "metadata": {
        "id": "AEnfasCcLopf",
        "colab_type": "code",
        "colab": {}
      },
      "source": [
        "\n",
        "train_df['timestamp'] = pd.to_datetime(train_df['timestamp'])\n",
        "test_df['timestamp'] = pd.to_datetime(test_df['timestamp'])\n",
        "weather_train_df['timestamp'] = pd.to_datetime(weather_train_df['timestamp'])\n",
        "weather_test_df['timestamp'] = pd.to_datetime(weather_test_df['timestamp'])\n",
        "    \n",
        "building_df['primary_use'] = building_df['primary_use'].astype('category')"
      ],
      "execution_count": 0,
      "outputs": []
    },
    {
      "cell_type": "markdown",
      "metadata": {
        "id": "9tsqWSkXRmks",
        "colab_type": "text"
      },
      "source": [
        "Concaténation des dataframes"
      ]
    },
    {
      "cell_type": "code",
      "metadata": {
        "id": "chLV_oDjNzlC",
        "colab_type": "code",
        "colab": {}
      },
      "source": [
        "temp_df = train_df[['building_id']]\n",
        "temp_df = temp_df.merge(building_df, on=['building_id'], how='left')\n",
        "del temp_df['building_id']\n",
        "train_df = pd.concat([train_df, temp_df], axis=1)\n",
        "\n",
        "temp_df = test_df[['building_id']]\n",
        "temp_df = temp_df.merge(building_df, on=['building_id'], how='left')\n",
        "\n",
        "del temp_df['building_id']\n",
        "test_df = pd.concat([test_df, temp_df], axis=1)\n",
        "del temp_df, building_df"
      ],
      "execution_count": 0,
      "outputs": []
    },
    {
      "cell_type": "code",
      "metadata": {
        "id": "eVGTB1wFOar2",
        "colab_type": "code",
        "colab": {}
      },
      "source": [
        "temp_df = train_df[['site_id','timestamp']]\n",
        "temp_df = temp_df.merge(weather_train_df, on=['site_id','timestamp'], how='left')\n",
        "\n",
        "del temp_df['site_id'], temp_df['timestamp']\n",
        "train_df = pd.concat([train_df, temp_df], axis=1)\n",
        "\n",
        "temp_df = test_df[['site_id','timestamp']]\n",
        "temp_df = temp_df.merge(weather_test_df, on=['site_id','timestamp'], how='left')\n",
        "\n",
        "del temp_df['site_id'], temp_df['timestamp']\n",
        "test_df = pd.concat([test_df, temp_df], axis=1)\n",
        "\n",
        "del temp_df, weather_train_df, weather_test_df"
      ],
      "execution_count": 0,
      "outputs": []
    },
    {
      "cell_type": "markdown",
      "metadata": {
        "id": "uaOyEywSR01g",
        "colab_type": "text"
      },
      "source": [
        "DATA visualistion:"
      ]
    },
    {
      "cell_type": "code",
      "metadata": {
        "id": "KjBD3uNPTTo5",
        "colab_type": "code",
        "outputId": "1d660348-b4a8-4f03-e242-cc50daa37ad2",
        "colab": {
          "base_uri": "https://localhost:8080/",
          "height": 51
        }
      },
      "source": [
        "print('the size of the train_df is',train_df.shape)\n",
        "print('the size of the test_df is',test_df.shape)"
      ],
      "execution_count": 0,
      "outputs": [
        {
          "output_type": "stream",
          "text": [
            "the size of the train_df is (20216100, 16)\n",
            "the size of the test_df is (41697600, 16)\n"
          ],
          "name": "stdout"
        }
      ]
    },
    {
      "cell_type": "code",
      "metadata": {
        "id": "EIZ-RLJBTZwx",
        "colab_type": "code",
        "outputId": "fcb77e7e-61d0-4f01-b42d-7d79eb635de1",
        "colab": {
          "base_uri": "https://localhost:8080/",
          "height": 102
        }
      },
      "source": [
        "train_df.columns.values"
      ],
      "execution_count": 0,
      "outputs": [
        {
          "output_type": "execute_result",
          "data": {
            "text/plain": [
              "array(['building_id', 'meter', 'timestamp', 'meter_reading', 'site_id',\n",
              "       'primary_use', 'square_feet', 'year_built', 'floor_count',\n",
              "       'air_temperature', 'cloud_coverage', 'dew_temperature',\n",
              "       'precip_depth_1_hr', 'sea_level_pressure', 'wind_direction',\n",
              "       'wind_speed'], dtype=object)"
            ]
          },
          "metadata": {
            "tags": []
          },
          "execution_count": 107
        }
      ]
    },
    {
      "cell_type": "code",
      "metadata": {
        "id": "WVW8SEGnTdhy",
        "colab_type": "code",
        "outputId": "55eca459-cb27-4dc7-d5b2-3f1c9d18682a",
        "colab": {
          "base_uri": "https://localhost:8080/",
          "height": 102
        }
      },
      "source": [
        "test_df.columns.values"
      ],
      "execution_count": 0,
      "outputs": [
        {
          "output_type": "execute_result",
          "data": {
            "text/plain": [
              "array(['row_id', 'building_id', 'meter', 'timestamp', 'site_id',\n",
              "       'primary_use', 'square_feet', 'year_built', 'floor_count',\n",
              "       'air_temperature', 'cloud_coverage', 'dew_temperature',\n",
              "       'precip_depth_1_hr', 'sea_level_pressure', 'wind_direction',\n",
              "       'wind_speed'], dtype=object)"
            ]
          },
          "metadata": {
            "tags": []
          },
          "execution_count": 108
        }
      ]
    },
    {
      "cell_type": "code",
      "metadata": {
        "id": "hhhnVIcfTkFP",
        "colab_type": "code",
        "outputId": "cb5ad072-1914-4ec5-87e8-1f485ff99739",
        "colab": {
          "base_uri": "https://localhost:8080/",
          "height": 323
        }
      },
      "source": [
        "print(\"moyenne of missing values in the train_df dataset\")\n",
        "train_df.isnull().mean()"
      ],
      "execution_count": 0,
      "outputs": [
        {
          "output_type": "stream",
          "text": [
            "moyenne of missing values in the train_df dataset\n"
          ],
          "name": "stdout"
        },
        {
          "output_type": "execute_result",
          "data": {
            "text/plain": [
              "building_id           0.000000\n",
              "meter                 0.000000\n",
              "timestamp             0.000000\n",
              "meter_reading         0.000000\n",
              "site_id               0.000000\n",
              "primary_use           0.000000\n",
              "square_feet           0.000000\n",
              "year_built            0.599900\n",
              "floor_count           0.826528\n",
              "air_temperature       0.004781\n",
              "cloud_coverage        0.436551\n",
              "dew_temperature       0.004953\n",
              "precip_depth_1_hr     0.185447\n",
              "sea_level_pressure    0.060925\n",
              "wind_direction        0.071678\n",
              "wind_speed            0.007107\n",
              "dtype: float64"
            ]
          },
          "metadata": {
            "tags": []
          },
          "execution_count": 109
        }
      ]
    },
    {
      "cell_type": "code",
      "metadata": {
        "id": "2BBEutFETytE",
        "colab_type": "code",
        "outputId": "2056d7b4-2e9f-488a-f5b0-b19bbfff7e39",
        "colab": {
          "base_uri": "https://localhost:8080/",
          "height": 323
        }
      },
      "source": [
        "print(\"moyenne of missing values in the test_df dataset\")\n",
        "test_df.isnull().mean()"
      ],
      "execution_count": 0,
      "outputs": [
        {
          "output_type": "stream",
          "text": [
            "moyenne of missing values in the test_df dataset\n"
          ],
          "name": "stdout"
        },
        {
          "output_type": "execute_result",
          "data": {
            "text/plain": [
              "row_id                0.000000\n",
              "building_id           0.000000\n",
              "meter                 0.000000\n",
              "timestamp             0.000000\n",
              "site_id               0.000000\n",
              "primary_use           0.000000\n",
              "square_feet           0.000000\n",
              "year_built            0.589916\n",
              "floor_count           0.826050\n",
              "air_temperature       0.005322\n",
              "cloud_coverage        0.468664\n",
              "dew_temperature       0.006255\n",
              "precip_depth_1_hr     0.187099\n",
              "sea_level_pressure    0.060359\n",
              "wind_direction        0.071435\n",
              "wind_speed            0.007245\n",
              "dtype: float64"
            ]
          },
          "metadata": {
            "tags": []
          },
          "execution_count": 110
        }
      ]
    },
    {
      "cell_type": "code",
      "metadata": {
        "id": "qo-QTwSJT-RK",
        "colab_type": "code",
        "outputId": "1620f5d6-6e41-4fb9-a4fb-d0995544e37e",
        "colab": {
          "base_uri": "https://localhost:8080/",
          "height": 374
        }
      },
      "source": [
        "train_df.info()"
      ],
      "execution_count": 0,
      "outputs": [
        {
          "output_type": "stream",
          "text": [
            "<class 'pandas.core.frame.DataFrame'>\n",
            "RangeIndex: 20216100 entries, 0 to 20216099\n",
            "Data columns (total 16 columns):\n",
            "building_id           int16\n",
            "meter                 int8\n",
            "timestamp             datetime64[ns]\n",
            "meter_reading         float32\n",
            "site_id               int8\n",
            "primary_use           category\n",
            "square_feet           int32\n",
            "year_built            float16\n",
            "floor_count           float16\n",
            "air_temperature       float16\n",
            "cloud_coverage        float16\n",
            "dew_temperature       float16\n",
            "precip_depth_1_hr     float16\n",
            "sea_level_pressure    float16\n",
            "wind_direction        float16\n",
            "wind_speed            float16\n",
            "dtypes: category(1), datetime64[ns](1), float16(9), float32(1), int16(1), int32(1), int8(2)\n",
            "memory usage: 751.9 MB\n"
          ],
          "name": "stdout"
        }
      ]
    },
    {
      "cell_type": "code",
      "metadata": {
        "id": "uyVIkbOPUA44",
        "colab_type": "code",
        "outputId": "7fbabfa0-2f51-4cac-d37b-c877ee35e1c5",
        "colab": {
          "base_uri": "https://localhost:8080/",
          "height": 374
        }
      },
      "source": [
        "train_df.info()\n"
      ],
      "execution_count": 0,
      "outputs": [
        {
          "output_type": "stream",
          "text": [
            "<class 'pandas.core.frame.DataFrame'>\n",
            "RangeIndex: 20216100 entries, 0 to 20216099\n",
            "Data columns (total 16 columns):\n",
            "building_id           int16\n",
            "meter                 int8\n",
            "timestamp             datetime64[ns]\n",
            "meter_reading         float32\n",
            "site_id               int8\n",
            "primary_use           category\n",
            "square_feet           int32\n",
            "year_built            float16\n",
            "floor_count           float16\n",
            "air_temperature       float16\n",
            "cloud_coverage        float16\n",
            "dew_temperature       float16\n",
            "precip_depth_1_hr     float16\n",
            "sea_level_pressure    float16\n",
            "wind_direction        float16\n",
            "wind_speed            float16\n",
            "dtypes: category(1), datetime64[ns](1), float16(9), float32(1), int16(1), int32(1), int8(2)\n",
            "memory usage: 751.9 MB\n"
          ],
          "name": "stdout"
        }
      ]
    },
    {
      "cell_type": "code",
      "metadata": {
        "id": "zrmdsbDgUu6v",
        "colab_type": "code",
        "outputId": "bd7ff2d3-3a30-4ae4-926b-c59547772354",
        "colab": {
          "base_uri": "https://localhost:8080/",
          "height": 316
        }
      },
      "source": [
        "fig=train_df.square_feet.plot.hist(rot=50)\n",
        "fig=plt.xlabel('square_feet')"
      ],
      "execution_count": 0,
      "outputs": [
        {
          "output_type": "display_data",
          "data": {
            "image/png": "[encoded data removed]",
            "text/plain": [
              "<Figure size 432x288 with 1 Axes>"
            ]
          },
          "metadata": {
            "tags": []
          }
        }
      ]
    },
    {
      "cell_type": "code",
      "metadata": {
        "id": "9CxLg-R-U_47",
        "colab_type": "code",
        "outputId": "8a5cac12-eaaf-4196-afa2-8a1404f3dad6",
        "colab": {
          "base_uri": "https://localhost:8080/",
          "height": 300
        }
      },
      "source": [
        "fig=train_df.meter_reading.plot.hist(rot=50)\n",
        "fig=plt.xlabel('meter_reading')"
      ],
      "execution_count": 0,
      "outputs": [
        {
          "output_type": "display_data",
          "data": {
            "image/png": "[encoded data removed]",
            "text/plain": [
              "<Figure size 432x288 with 1 Axes>"
            ]
          },
          "metadata": {
            "tags": []
          }
        }
      ]
    },
    {
      "cell_type": "code",
      "metadata": {
        "id": "uazeyqBXVvf2",
        "colab_type": "code",
        "outputId": "78680bc7-f887-486e-8204-4b1bf0784dbd",
        "colab": {
          "base_uri": "https://localhost:8080/",
          "height": 306
        }
      },
      "source": [
        "train_df.primary_use.value_counts()"
      ],
      "execution_count": 0,
      "outputs": [
        {
          "output_type": "execute_result",
          "data": {
            "text/plain": [
              "Education                        8165504\n",
              "Office                           4394864\n",
              "Entertainment/public assembly    2264917\n",
              "Lodging/residential              2146413\n",
              "Public services                  1662826\n",
              "Healthcare                        398527\n",
              "Other                             242222\n",
              "Parking                           213796\n",
              "Manufacturing/industrial          125713\n",
              "Food sales and service            114090\n",
              "Retail                            112657\n",
              "Warehouse/storage                 111861\n",
              "Services                           96519\n",
              "Technology/science                 77627\n",
              "Utility                            56203\n",
              "Religious worship                  32361\n",
              "Name: primary_use, dtype: int64"
            ]
          },
          "metadata": {
            "tags": []
          },
          "execution_count": 115
        }
      ]
    },
    {
      "cell_type": "code",
      "metadata": {
        "id": "78_ZhyEQV7-x",
        "colab_type": "code",
        "outputId": "5dd8d00e-e22b-49ac-d830-70a8d726d7ec",
        "colab": {
          "base_uri": "https://localhost:8080/",
          "height": 428
        }
      },
      "source": [
        "train_df['primary_use'].value_counts().plot.bar()"
      ],
      "execution_count": 0,
      "outputs": [
        {
          "output_type": "execute_result",
          "data": {
            "text/plain": [
              "<matplotlib.axes._subplots.AxesSubplot at 0x7f4375300a58>"
            ]
          },
          "metadata": {
            "tags": []
          },
          "execution_count": 116
        },
        {
          "output_type": "display_data",
          "data": {
            "image/png": "[encoded data removed]",
            "text/plain": [
              "<Figure size 432x288 with 1 Axes>"
            ]
          },
          "metadata": {
            "tags": []
          }
        }
      ]
    },
    {
      "cell_type": "code",
      "metadata": {
        "id": "8fpew_kTWUET",
        "colab_type": "code",
        "outputId": "eb70971e-7e4a-43a8-bc62-09b814e3d3de",
        "colab": {
          "base_uri": "https://localhost:8080/",
          "height": 698
        }
      },
      "source": [
        "corrmat=train_df.corr()\n",
        "fig,ax=plt.subplots(figsize=(12,10))\n",
        "sns.heatmap(corrmat,annot=True,annot_kws={'size': 12})"
      ],
      "execution_count": 0,
      "outputs": [
        {
          "output_type": "execute_result",
          "data": {
            "text/plain": [
              "<matplotlib.axes._subplots.AxesSubplot at 0x7f4375357d30>"
            ]
          },
          "metadata": {
            "tags": []
          },
          "execution_count": 117
        },
        {
          "output_type": "display_data",
          "data": {
            "image/png": "[encoded data removed]",
            "text/plain": [
              "<Figure size 864x720 with 2 Axes>"
            ]
          },
          "metadata": {
            "tags": []
          }
        }
      ]
    },
    {
      "cell_type": "markdown",
      "metadata": {
        "id": "-Qlh3S_CR5u5",
        "colab_type": "text"
      },
      "source": [
        "data cleaning"
      ]
    },
    {
      "cell_type": "code",
      "metadata": {
        "id": "w7js1oglPZDZ",
        "colab_type": "code",
        "colab": {}
      },
      "source": [
        "train_df['floor_count'] = train_df['floor_count'].fillna(-999).astype(np.int16)\n",
        "test_df['floor_count'] = test_df['floor_count'].fillna(-999).astype(np.int16)\n",
        "\n",
        "train_df['year_built'] = train_df['year_built'].fillna(-999).astype(np.int16)\n",
        "test_df['year_built'] = test_df['year_built'].fillna(-999).astype(np.int16)\n",
        "train_df['cloud_coverage'] = train_df['cloud_coverage'].fillna(-999).astype(np.int16)\n",
        "test_df['cloud_coverage'] = test_df['cloud_coverage'].fillna(-999).astype(np.int16) \n"
      ],
      "execution_count": 0,
      "outputs": []
    },
    {
      "cell_type": "code",
      "metadata": {
        "id": "_zMF0WwHmjfn",
        "colab_type": "code",
        "colab": {}
      },
      "source": [
        "\n",
        "train_df['cloud_coverage'].fillna(method='bfill', inplace = True)\n",
        "\n",
        "train_df['wind_speed'].fillna(train_df['wind_speed'].mean(), inplace=True)\n",
        "train_df['air_temperature'].fillna(train_df['air_temperature'].mean(), inplace=True)\n",
        "\n",
        "\n",
        "test_df['cloud_coverage'].fillna(method='bfill', inplace = True)\n",
        "\n",
        "test_df['cloud_coverage'].fillna(test_df['cloud_coverage'].mean(), inplace=True)\n",
        "\n",
        "test_df['wind_speed'].fillna(test_df['wind_speed'].mean(), inplace=True)\n",
        "test_df['air_temperature'].fillna(test_df['air_temperature'].mean(), inplace=True)"
      ],
      "execution_count": 0,
      "outputs": []
    },
    {
      "cell_type": "code",
      "metadata": {
        "id": "TVdcDzKzyT7i",
        "colab_type": "code",
        "colab": {}
      },
      "source": [
        "train_df = train_df.drop(columns=[ 'wind_direction', 'dew_temperature','precip_depth_1_hr','sea_level_pressure'])\n",
        "test_df = test_df.drop(columns=['wind_direction', 'dew_temperature', 'precip_depth_1_hr' ,'sea_level_pressure'])"
      ],
      "execution_count": 0,
      "outputs": []
    },
    {
      "cell_type": "markdown",
      "metadata": {
        "id": "rf2WTyBKSZRq",
        "colab_type": "text"
      },
      "source": [
        "feature engineering"
      ]
    },
    {
      "cell_type": "code",
      "metadata": {
        "id": "Rl5yHNeDOdOm",
        "colab_type": "code",
        "colab": {}
      },
      "source": [
        "from sklearn.preprocessing import LabelEncoder\n",
        "le = LabelEncoder()\n",
        "\n",
        "train_df['primary_use'] = le.fit_transform(train_df['primary_use']).astype(np.int8)\n",
        "\n",
        "\n",
        "test_df['primary_use'] = le.fit_transform(test_df['primary_use']).astype(np.int8)"
      ],
      "execution_count": 0,
      "outputs": []
    },
    {
      "cell_type": "code",
      "metadata": {
        "id": "wO3y8oE8l3vq",
        "colab_type": "code",
        "colab": {}
      },
      "source": [
        "train_df['wind_speed'] = train_df['wind_speed'].astype('float32')\n",
        "train_df['air_temperature'] = train_df['air_temperature'].astype('float32')\n",
        "\n",
        "train_df['cloud_coverage'] = train_df['cloud_coverage'].astype('float32')\n",
        "test_df['wind_speed'] = test_df['wind_speed'].astype('float32')\n",
        "test_df['air_temperature'] = test_df['air_temperature'].astype('float32')\n",
        "\n",
        "test_df['cloud_coverage'] = test_df['cloud_coverage'].astype('float32')"
      ],
      "execution_count": 0,
      "outputs": []
    },
    {
      "cell_type": "code",
      "metadata": {
        "id": "79MeSnavQdTh",
        "colab_type": "code",
        "colab": {}
      },
      "source": [
        "#eliminer l'heure\n",
        "train_df[\"timestamp\"] = pd.to_datetime(train_df[\"timestamp\"], format='%Y-%m-%d %H:%M:%S')\n",
        "test_df[\"timestamp\"] = pd.to_datetime(test_df[\"timestamp\"], format='%Y-%m-%d %H:%M:%S')\n",
        "train_df ['timestamp'] =  pd.to_datetime(train_df['timestamp'])\n",
        "test_df ['timestamp'] =  pd.to_datetime(test_df['timestamp'])\n",
        "train_df['Month']=pd.DatetimeIndex(train_df['timestamp']).month\n",
        "test_df['Month']=pd.DatetimeIndex(test_df['timestamp']).month\n",
        "train_df['Day']=pd.DatetimeIndex(train_df['timestamp']).day\n",
        "test_df['Day']=pd.DatetimeIndex(test_df['timestamp']).day\n",
        "    \n",
        "test_df['year_built'] = test_df['year_built']-1900\n",
        "test_df['square_feet'] = np.log(test_df['square_feet'])"
      ],
      "execution_count": 0,
      "outputs": []
    },
    {
      "cell_type": "code",
      "metadata": {
        "id": "IBp3cf-0jcgI",
        "colab_type": "code",
        "colab": {}
      },
      "source": [
        "train_df = train_df.drop(columns=[ 'timestamp' ])\n",
        "test_df = test_df.drop(columns=[ 'timestamp'])"
      ],
      "execution_count": 0,
      "outputs": []
    },
    {
      "cell_type": "markdown",
      "metadata": {
        "id": "MPtl9NoGS9Z8",
        "colab_type": "text"
      },
      "source": [
        "Data preparation evaluation :"
      ]
    },
    {
      "cell_type": "code",
      "metadata": {
        "id": "ozniL6vwRLZT",
        "colab_type": "code",
        "outputId": "fc19cc10-6635-49ee-81ed-60befc5aa986",
        "colab": {
          "base_uri": "https://localhost:8080/",
          "height": 272
        }
      },
      "source": [
        "print(\"missing values in the train_df dataset\")\n",
        "train_df.isnull().sum()"
      ],
      "execution_count": 0,
      "outputs": [
        {
          "output_type": "stream",
          "text": [
            "missing values in the train_df dataset\n"
          ],
          "name": "stdout"
        },
        {
          "output_type": "execute_result",
          "data": {
            "text/plain": [
              "building_id        0\n",
              "meter              0\n",
              "meter_reading      0\n",
              "site_id            0\n",
              "primary_use        0\n",
              "square_feet        0\n",
              "year_built         0\n",
              "floor_count        0\n",
              "air_temperature    0\n",
              "cloud_coverage     0\n",
              "wind_speed         0\n",
              "Month              0\n",
              "Day                0\n",
              "dtype: int64"
            ]
          },
          "metadata": {
            "tags": []
          },
          "execution_count": 24
        }
      ]
    },
    {
      "cell_type": "code",
      "metadata": {
        "id": "pWiyPUnTRwbH",
        "colab_type": "code",
        "outputId": "f96debde-0808-4735-bc6e-44b7e29646fc",
        "colab": {
          "base_uri": "https://localhost:8080/",
          "height": 272
        }
      },
      "source": [
        "print(\"missing values in the test_df dataset\")\n",
        "test_df.isnull().sum()"
      ],
      "execution_count": 0,
      "outputs": [
        {
          "output_type": "stream",
          "text": [
            "missing values in the test_df dataset\n"
          ],
          "name": "stdout"
        },
        {
          "output_type": "execute_result",
          "data": {
            "text/plain": [
              "row_id             0\n",
              "building_id        0\n",
              "meter              0\n",
              "site_id            0\n",
              "primary_use        0\n",
              "square_feet        0\n",
              "year_built         0\n",
              "floor_count        0\n",
              "air_temperature    0\n",
              "cloud_coverage     0\n",
              "wind_speed         0\n",
              "Month              0\n",
              "Day                0\n",
              "dtype: int64"
            ]
          },
          "metadata": {
            "tags": []
          },
          "execution_count": 25
        }
      ]
    },
    {
      "cell_type": "code",
      "metadata": {
        "id": "1_54G7WPTEnB",
        "colab_type": "code",
        "outputId": "9a0f55ff-0405-4fb0-f1b3-6408ef5c29b5",
        "colab": {
          "base_uri": "https://localhost:8080/",
          "height": 323
        }
      },
      "source": [
        "train_df.info()"
      ],
      "execution_count": 0,
      "outputs": [
        {
          "output_type": "stream",
          "text": [
            "<class 'pandas.core.frame.DataFrame'>\n",
            "RangeIndex: 20216100 entries, 0 to 20216099\n",
            "Data columns (total 13 columns):\n",
            "building_id        int16\n",
            "meter              int8\n",
            "meter_reading      float32\n",
            "site_id            int8\n",
            "primary_use        int8\n",
            "square_feet        int32\n",
            "year_built         int16\n",
            "floor_count        int16\n",
            "air_temperature    float32\n",
            "cloud_coverage     float32\n",
            "wind_speed         float32\n",
            "Month              int64\n",
            "Day                int64\n",
            "dtypes: float32(4), int16(3), int32(1), int64(2), int8(3)\n",
            "memory usage: 867.6 MB\n"
          ],
          "name": "stdout"
        }
      ]
    },
    {
      "cell_type": "markdown",
      "metadata": {
        "id": "bKYULoIiRffJ",
        "colab_type": "text"
      },
      "source": [
        "Modeling"
      ]
    },
    {
      "cell_type": "code",
      "metadata": {
        "id": "xa0m8P2sRgri",
        "colab_type": "code",
        "outputId": "a7fb72c7-3c3d-40e0-a634-99a8cf5b3fc8",
        "colab": {
          "base_uri": "https://localhost:8080/",
          "height": 80
        }
      },
      "source": [
        "from sklearn import preprocessing\n",
        "from keras import backend as K\n",
        "import tensorflow as tf\n",
        "from keras.callbacks import ModelCheckpoint, EarlyStopping\n",
        "from keras.layers import Dense, LSTM, GRU, Dropout, BatchNormalization,Activation,Flatten,TimeDistributed,AveragePooling1D\n",
        "from keras.models import Sequential\n",
        "from keras.optimizers import RMSprop,Adam\n",
        "from keras import regularizers"
      ],
      "execution_count": 0,
      "outputs": [
        {
          "output_type": "stream",
          "text": [
            "Using TensorFlow backend.\n"
          ],
          "name": "stderr"
        },
        {
          "output_type": "display_data",
          "data": {
            "text/html": [
              "<p style=\"color: red;\">\n",
              "The default version of TensorFlow in Colab will soon switch to TensorFlow 2.x.<br>\n",
              "We recommend you <a href=\"https://www.tensorflow.org/guide/migrate\" target=\"_blank\">upgrade</a> now \n",
              "or ensure your notebook will continue to use TensorFlow 1.x via the <code>%tensorflow_version 1.x</code> magic:\n",
              "<a href=\"https://colab.research.google.com/notebooks/tensorflow_version.ipynb\" target=\"_blank\">more info</a>.</p>\n"
            ],
            "text/plain": [
              "<IPython.core.display.HTML object>"
            ]
          },
          "metadata": {
            "tags": []
          }
        }
      ]
    },
    {
      "cell_type": "code",
      "metadata": {
        "id": "ZIs3p9V4SY7d",
        "colab_type": "code",
        "outputId": "92163538-a09a-4a89-bb5c-b2bcc88c1533",
        "colab": {
          "base_uri": "https://localhost:8080/",
          "height": 85
        }
      },
      "source": [
        "train_df.columns"
      ],
      "execution_count": 0,
      "outputs": [
        {
          "output_type": "execute_result",
          "data": {
            "text/plain": [
              "Index(['building_id', 'meter', 'meter_reading', 'site_id', 'primary_use',\n",
              "       'square_feet', 'year_built', 'floor_count', 'air_temperature',\n",
              "       'cloud_coverage', 'wind_speed', 'Month', 'Day'],\n",
              "      dtype='object')"
            ]
          },
          "metadata": {
            "tags": []
          },
          "execution_count": 139
        }
      ]
    },
    {
      "cell_type": "code",
      "metadata": {
        "id": "eDTtDFIgSLPu",
        "colab_type": "code",
        "colab": {}
      },
      "source": [
        "X = train_df[['building_id', 'meter', 'site_id',\n",
        "       'primary_use', 'square_feet', 'year_built', 'floor_count',\n",
        "       'air_temperature', 'cloud_coverage', 'wind_speed', 'Month', 'Day']]\n",
        "y = train_df['meter_reading']"
      ],
      "execution_count": 0,
      "outputs": []
    },
    {
      "cell_type": "code",
      "metadata": {
        "id": "ZskJyNqcSnbd",
        "colab_type": "code",
        "colab": {}
      },
      "source": [
        "x_train, x_val, y_train, y_val = train_test_split(X,y, test_size = 0.3, random_state= 30)"
      ],
      "execution_count": 0,
      "outputs": []
    },
    {
      "cell_type": "code",
      "metadata": {
        "id": "Q6UkXtw3S9pe",
        "colab_type": "code",
        "colab": {}
      },
      "source": [
        "def root_mean_squared_error(y_true, y_pred):\n",
        "  return K.sqrt(K.mean(K.square(y_pred - y_true)))"
      ],
      "execution_count": 0,
      "outputs": []
    },
    {
      "cell_type": "code",
      "metadata": {
        "id": "ABFq2QTVTDIw",
        "colab_type": "code",
        "colab": {}
      },
      "source": [
        "def make_model(input_dim=10,metrics=root_mean_squared_error,loss='mse', optimizer=\"rmsprop\",drop_rate=0.5):\n",
        "\n",
        "  model = Sequential()\n",
        "  model.add(LSTM(128,return_sequences=True, input_shape=(None,input_dim)))\n",
        "  model.add(Dropout(drop_rate))\n",
        "  model.add(BatchNormalization())\n",
        "  model.add(LSTM(128,return_sequences=False))\n",
        "  model.add(BatchNormalization())\n",
        "  model.add(Dropout(drop_rate))\n",
        "  model.add(Dense(1))\n",
        "  model.compile(optimizer=optimizer, loss=loss, metrics=[metrics])\n",
        "  \n",
        "  return model"
      ],
      "execution_count": 0,
      "outputs": []
    },
    {
      "cell_type": "code",
      "metadata": {
        "id": "LPy6u9WiTNBd",
        "colab_type": "code",
        "colab": {}
      },
      "source": [
        "def run_model(model,x_train,y_train,epochs=50,batch_size=500,verbose=1,validation_data=(x_val,y_val),callbacks =None):\n",
        "  x_train = x_train.values[:]\n",
        "  x_train= x_train.reshape((x_train.shape[0],1,x_train.shape[-1]))\n",
        "  y_train = np.log1p(y_train)\n",
        "  if validation_data != None:\n",
        "    x_val = validation_data[0].values[:]\n",
        "    x_val = x_val.reshape((x_val.shape[0],1,x_val.shape[-1]))\n",
        "    y_val = np.log1p(validation_data[-1])\n",
        "      \n",
        "  return model.fit(x_train,y_train,epochs=epochs,batch_size=batch_size,verbose=verbose,validation_data=(x_val,y_val),callbacks=callbacks)"
      ],
      "execution_count": 0,
      "outputs": []
    },
    {
      "cell_type": "code",
      "metadata": {
        "id": "g2QVIdc3TVxm",
        "colab_type": "code",
        "colab": {}
      },
      "source": [
        "model = make_model(input_dim=x_train.shape[-1],drop_rate=0.2)"
      ],
      "execution_count": 0,
      "outputs": []
    },
    {
      "cell_type": "code",
      "metadata": {
        "id": "_sNEDb8jTcfo",
        "colab_type": "code",
        "outputId": "26a5d864-cb28-4596-8d7c-92091f8cc9be",
        "colab": {
          "base_uri": "https://localhost:8080/",
          "height": 683
        }
      },
      "source": [
        "es = EarlyStopping(monitor='val_root_mean_squared_error', min_delta=0.0001, patience=5, verbose=True, mode='auto')\n",
        "history = run_model(model,x_train,y_train,epochs=20,batch_size=5000,verbose=1,validation_data=(x_val,y_val), callbacks =[es]) # callbacks =[mc, es]"
      ],
      "execution_count": 0,
      "outputs": [
        {
          "output_type": "stream",
          "text": [
            "Train on 14151270 samples, validate on 6064830 samples\n",
            "Epoch 1/20\n",
            "14151270/14151270 [==============================] - 401s 28us/step - loss: 4.1813 - root_mean_squared_error: 2.0447 - val_loss: 4.1135 - val_root_mean_squared_error: 2.0280\n",
            "Epoch 2/20\n",
            "14151270/14151270 [==============================] - 401s 28us/step - loss: 4.1809 - root_mean_squared_error: 2.0446 - val_loss: 4.1060 - val_root_mean_squared_error: 2.0262\n",
            "Epoch 3/20\n",
            "14151270/14151270 [==============================] - 404s 29us/step - loss: 4.1801 - root_mean_squared_error: 2.0444 - val_loss: 4.1100 - val_root_mean_squared_error: 2.0272\n",
            "Epoch 4/20\n",
            "14151270/14151270 [==============================] - 401s 28us/step - loss: 4.1802 - root_mean_squared_error: 2.0444 - val_loss: 4.1045 - val_root_mean_squared_error: 2.0258\n",
            "Epoch 5/20\n",
            "14151270/14151270 [==============================] - 400s 28us/step - loss: 4.1800 - root_mean_squared_error: 2.0444 - val_loss: 4.1043 - val_root_mean_squared_error: 2.0258\n",
            "Epoch 6/20\n",
            "14151270/14151270 [==============================] - 406s 29us/step - loss: 4.1798 - root_mean_squared_error: 2.0443 - val_loss: 4.1115 - val_root_mean_squared_error: 2.0276\n",
            "Epoch 7/20\n",
            "14151270/14151270 [==============================] - 408s 29us/step - loss: 4.1798 - root_mean_squared_error: 2.0443 - val_loss: 4.1087 - val_root_mean_squared_error: 2.0269\n",
            "Epoch 8/20\n",
            "14151270/14151270 [==============================] - 410s 29us/step - loss: 4.1796 - root_mean_squared_error: 2.0443 - val_loss: 4.1003 - val_root_mean_squared_error: 2.0248\n",
            "Epoch 9/20\n",
            "14151270/14151270 [==============================] - 408s 29us/step - loss: 4.1800 - root_mean_squared_error: 2.0444 - val_loss: 4.1045 - val_root_mean_squared_error: 2.0258\n",
            "Epoch 10/20\n",
            "14151270/14151270 [==============================] - 406s 29us/step - loss: 4.1791 - root_mean_squared_error: 2.0442 - val_loss: 4.1029 - val_root_mean_squared_error: 2.0254\n",
            "Epoch 11/20\n",
            "14151270/14151270 [==============================] - 403s 29us/step - loss: 4.1794 - root_mean_squared_error: 2.0443 - val_loss: 4.1033 - val_root_mean_squared_error: 2.0255\n",
            "Epoch 12/20\n",
            "14151270/14151270 [==============================] - 409s 29us/step - loss: 4.1793 - root_mean_squared_error: 2.0442 - val_loss: 4.1016 - val_root_mean_squared_error: 2.0251\n",
            "Epoch 13/20\n",
            "14151270/14151270 [==============================] - 416s 29us/step - loss: 4.1801 - root_mean_squared_error: 2.0444 - val_loss: 4.0983 - val_root_mean_squared_error: 2.0243\n",
            "Epoch 14/20\n",
            "14151270/14151270 [==============================] - 412s 29us/step - loss: 4.1790 - root_mean_squared_error: 2.0442 - val_loss: 4.1012 - val_root_mean_squared_error: 2.0250\n",
            "Epoch 15/20\n",
            "14151270/14151270 [==============================] - 407s 29us/step - loss: 4.1797 - root_mean_squared_error: 2.0443 - val_loss: 4.1068 - val_root_mean_squared_error: 2.0264\n",
            "Epoch 16/20\n",
            "14151270/14151270 [==============================] - 407s 29us/step - loss: 4.1790 - root_mean_squared_error: 2.0442 - val_loss: 4.1063 - val_root_mean_squared_error: 2.0263\n",
            "Epoch 17/20\n",
            "14151270/14151270 [==============================] - 407s 29us/step - loss: 4.1790 - root_mean_squared_error: 2.0442 - val_loss: 4.1078 - val_root_mean_squared_error: 2.0267\n",
            "Epoch 18/20\n",
            "14151270/14151270 [==============================] - 406s 29us/step - loss: 4.1790 - root_mean_squared_error: 2.0441 - val_loss: 4.1125 - val_root_mean_squared_error: 2.0278\n",
            "Epoch 00018: early stopping\n"
          ],
          "name": "stdout"
        }
      ]
    },
    {
      "cell_type": "code",
      "metadata": {
        "id": "-_2UFUmK4UjK",
        "colab_type": "code",
        "outputId": "644280e8-b853-426a-a30b-9bc4f3a71041",
        "colab": {
          "base_uri": "https://localhost:8080/",
          "height": 295
        }
      },
      "source": [
        "from matplotlib import pyplot\n",
        "from numpy import array\n",
        "# plot train and validation loss\n",
        "pyplot.plot(history.history['loss'])\n",
        "pyplot.plot(history.history['val_loss'])\n",
        "pyplot.title('model train vs validation loss')\n",
        "pyplot.ylabel('loss')\n",
        "pyplot.xlabel('epoch')\n",
        "pyplot.legend(['train', 'validation'], loc='upper right')\n",
        "pyplot.show()"
      ],
      "execution_count": 0,
      "outputs": [
        {
          "output_type": "display_data",
          "data": {
            "image/png": "[encoded data removed]",
            "text/plain": [
              "<Figure size 432x288 with 1 Axes>"
            ]
          },
          "metadata": {
            "tags": []
          }
        }
      ]
    },
    {
      "cell_type": "code",
      "metadata": {
        "id": "_osc6mzYO3JE",
        "colab_type": "code",
        "colab": {}
      },
      "source": [
        "model_json = model.to_json()\n",
        "with open(\"history.json\", \"w\") as json_file:\n",
        "    json_file.write(model_json)"
      ],
      "execution_count": 0,
      "outputs": []
    },
    {
      "cell_type": "code",
      "metadata": {
        "id": "8-xjIw_mO76Z",
        "colab_type": "code",
        "outputId": "372a5144-2b68-47e0-bacd-858fbafc13fe",
        "colab": {
          "base_uri": "https://localhost:8080/",
          "height": 34
        }
      },
      "source": [
        "# serialize weights to HDF5\n",
        "model.save_weights(\"history.h5\")\n",
        "print(\"Saved model to disk\")"
      ],
      "execution_count": 0,
      "outputs": [
        {
          "output_type": "stream",
          "text": [
            "Saved model to disk\n"
          ],
          "name": "stdout"
        }
      ]
    },
    {
      "cell_type": "code",
      "metadata": {
        "id": "bWzCARBDGwLO",
        "colab_type": "code",
        "outputId": "dc73edfa-54a7-4df2-c89c-ae655de510b4",
        "colab": {
          "base_uri": "https://localhost:8080/",
          "height": 34
        }
      },
      "source": [
        "#from google.colab import files\n",
        "#files.upload()\n",
        "\n",
        "# load json and create model\n",
        "from keras.models import model_from_json\n",
        "\n",
        "json_file = open('/content/history.json', 'r')\n",
        "loaded_model_json = json_file.read()\n",
        "\n",
        "json_file.close()\n",
        "loaded_model = model_from_json(loaded_model_json)\n",
        "\n",
        "# load weights into new model\n",
        "loaded_model = model_from_json(loaded_model_json)\n",
        "loaded_model.load_weights(\"/content/history.h5\")\n",
        "print(\"Loaded model from disk\")\n",
        "\n",
        "#compile the model\n",
        "#loaded_model.compile(loss='mse',optimizer =Adam(lr=1e-4) ,metrics=[rmse])\n",
        "#score = loaded_model.predict(reshapeTest)\n",
        "\n",
        "\n",
        "#prediction = np.expm1(score)\n",
        "#df = pd.DataFrame(prediction)   \n",
        "#df['row_id'] = row_ids\n",
        "#df['meter_reading'] = df[0]\n",
        "#df.drop([0], axis=1, inplace=True)\n",
        "#df.to_csv('sub.csv', index=False, float_format='%.4f')\n",
        "\n",
        "\n",
        "#!kaggle competitions submit -c ashrae-energy-prediction -f sub.csv -m \"Message\""
      ],
      "execution_count": 0,
      "outputs": [
        {
          "output_type": "stream",
          "text": [
            "Loaded model from disk\n"
          ],
          "name": "stdout"
        }
      ]
    },
    {
      "cell_type": "code",
      "metadata": {
        "id": "l0J18W8V2hht",
        "colab_type": "code",
        "colab": {}
      },
      "source": [
        "#compile the model\n",
        "x_test= train_df[['building_id', 'meter', 'site_id',\n",
        "       'primary_use', 'square_feet', 'year_built', 'floor_count',\n",
        "       'air_temperature', 'cloud_coverage', 'wind_speed', 'Month', 'Day']]\n",
        "x_test= x_test.values[:]\n",
        "x_test= x_test.reshape((x_test.shape[0],1,x_test.shape[-1]))\n",
        "y_test = np.log1p(y_train)\n",
        "loaded_model.compile(loss='mse',optimizer =Adam(lr=1e-4) ,metrics=[root_mean_squared_error])\n",
        "#score = loaded_model.predict(x_test)"
      ],
      "execution_count": 0,
      "outputs": []
    },
    {
      "cell_type": "code",
      "metadata": {
        "id": "IHAYh8tj4oYz",
        "colab_type": "code",
        "colab": {}
      },
      "source": [
        "score = loaded_model.predict(x_test)"
      ],
      "execution_count": 0,
      "outputs": []
    },
    {
      "cell_type": "code",
      "metadata": {
        "id": "DqTwF-owK3My",
        "colab_type": "code",
        "colab": {}
      },
      "source": [
        "prediction = np.expm1(score)\n",
        "df = pd.DataFrame(prediction)   \n",
        "df['row_id'] = row_ids\n",
        "df['meter_reading'] = df[0]\n",
        "df.drop([0], axis=1, inplace=True)\n",
        "df.to_csv('sub.csv', index=False, float_format='%.4f')\n",
        "\n",
        "\n",
        "!kaggle competitions submit -c ashrae-energy-prediction -f sub.csv -m \"Message\""
      ],
      "execution_count": 0,
      "outputs": []
    }
  ]
}